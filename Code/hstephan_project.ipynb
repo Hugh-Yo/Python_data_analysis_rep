{
 "cells": [
  {
   "cell_type": "code",
   "execution_count": 2,
   "metadata": {},
   "outputs": [],
   "source": [
    "import numpy as np\n",
    "import pandas as pd\n",
    "import seaborn as sns\n",
    "import matplotlib.pyplot as plt\n",
    "from sklearn import preprocessing"
   ]
  },
  {
   "cell_type": "markdown",
   "metadata": {},
   "source": [
    "# Dataset"
   ]
  },
  {
   "cell_type": "markdown",
   "metadata": {},
   "source": [
    "This is the \"Facebook Comment Volume Dataset\" - https://archive.ics.uci.edu/ml/datasets/Facebook+Comment+Volume+Dataset.\n",
    "\n",
    "- The dataset comes in 5 different variants. Each of these variants represents a base time for collection. I chose to only work with the first one : \"Features_Variant_1\"\n",
    "- There are 54 attributes, one being the target output\n",
    "- As the columns have no tags, let's add names to the attributes, as given on the UCI  website \n",
    "    - All the names are derived from their explanation in the papers related to the article (available in the presentation)\n"
   ]
  },
  {
   "cell_type": "code",
   "execution_count": 3,
   "metadata": {},
   "outputs": [
    {
     "data": {
      "text/html": [
       "<div>\n",
       "<style scoped>\n",
       "    .dataframe tbody tr th:only-of-type {\n",
       "        vertical-align: middle;\n",
       "    }\n",
       "\n",
       "    .dataframe tbody tr th {\n",
       "        vertical-align: top;\n",
       "    }\n",
       "\n",
       "    .dataframe thead th {\n",
       "        text-align: right;\n",
       "    }\n",
       "</style>\n",
       "<table border=\"1\" class=\"dataframe\">\n",
       "  <thead>\n",
       "    <tr style=\"text-align: right;\">\n",
       "      <th></th>\n",
       "      <th>page_likes</th>\n",
       "      <th>page_checkins</th>\n",
       "      <th>page_talking</th>\n",
       "      <th>page_category</th>\n",
       "      <th>cc1_min</th>\n",
       "      <th>cc1_max</th>\n",
       "      <th>cc1_avg</th>\n",
       "      <th>cc1_med</th>\n",
       "      <th>cc1_std</th>\n",
       "      <th>cc2_min</th>\n",
       "      <th>...</th>\n",
       "      <th>post_pub_friday</th>\n",
       "      <th>post_pub_saturday</th>\n",
       "      <th>base_date_sunday</th>\n",
       "      <th>base_date_monday</th>\n",
       "      <th>base_date_tuesday</th>\n",
       "      <th>base_date_wednesday</th>\n",
       "      <th>base_date_thursday</th>\n",
       "      <th>base_date_friday</th>\n",
       "      <th>base_date_saturday</th>\n",
       "      <th>target</th>\n",
       "    </tr>\n",
       "  </thead>\n",
       "  <tbody>\n",
       "    <tr>\n",
       "      <th>0</th>\n",
       "      <td>634995</td>\n",
       "      <td>0</td>\n",
       "      <td>463</td>\n",
       "      <td>1</td>\n",
       "      <td>0.0</td>\n",
       "      <td>806.0</td>\n",
       "      <td>11.291045</td>\n",
       "      <td>1.0</td>\n",
       "      <td>70.495138</td>\n",
       "      <td>0.0</td>\n",
       "      <td>...</td>\n",
       "      <td>0</td>\n",
       "      <td>0</td>\n",
       "      <td>0</td>\n",
       "      <td>0</td>\n",
       "      <td>0</td>\n",
       "      <td>0</td>\n",
       "      <td>0</td>\n",
       "      <td>0</td>\n",
       "      <td>1</td>\n",
       "      <td>0</td>\n",
       "    </tr>\n",
       "    <tr>\n",
       "      <th>1</th>\n",
       "      <td>634995</td>\n",
       "      <td>0</td>\n",
       "      <td>463</td>\n",
       "      <td>1</td>\n",
       "      <td>0.0</td>\n",
       "      <td>806.0</td>\n",
       "      <td>11.291045</td>\n",
       "      <td>1.0</td>\n",
       "      <td>70.495138</td>\n",
       "      <td>0.0</td>\n",
       "      <td>...</td>\n",
       "      <td>0</td>\n",
       "      <td>0</td>\n",
       "      <td>0</td>\n",
       "      <td>0</td>\n",
       "      <td>0</td>\n",
       "      <td>0</td>\n",
       "      <td>0</td>\n",
       "      <td>1</td>\n",
       "      <td>0</td>\n",
       "      <td>0</td>\n",
       "    </tr>\n",
       "    <tr>\n",
       "      <th>2</th>\n",
       "      <td>634995</td>\n",
       "      <td>0</td>\n",
       "      <td>463</td>\n",
       "      <td>1</td>\n",
       "      <td>0.0</td>\n",
       "      <td>806.0</td>\n",
       "      <td>11.291045</td>\n",
       "      <td>1.0</td>\n",
       "      <td>70.495138</td>\n",
       "      <td>0.0</td>\n",
       "      <td>...</td>\n",
       "      <td>1</td>\n",
       "      <td>0</td>\n",
       "      <td>0</td>\n",
       "      <td>0</td>\n",
       "      <td>0</td>\n",
       "      <td>0</td>\n",
       "      <td>0</td>\n",
       "      <td>0</td>\n",
       "      <td>1</td>\n",
       "      <td>0</td>\n",
       "    </tr>\n",
       "    <tr>\n",
       "      <th>3</th>\n",
       "      <td>634995</td>\n",
       "      <td>0</td>\n",
       "      <td>463</td>\n",
       "      <td>1</td>\n",
       "      <td>0.0</td>\n",
       "      <td>806.0</td>\n",
       "      <td>11.291045</td>\n",
       "      <td>1.0</td>\n",
       "      <td>70.495138</td>\n",
       "      <td>0.0</td>\n",
       "      <td>...</td>\n",
       "      <td>1</td>\n",
       "      <td>0</td>\n",
       "      <td>0</td>\n",
       "      <td>1</td>\n",
       "      <td>0</td>\n",
       "      <td>0</td>\n",
       "      <td>0</td>\n",
       "      <td>0</td>\n",
       "      <td>0</td>\n",
       "      <td>0</td>\n",
       "    </tr>\n",
       "    <tr>\n",
       "      <th>4</th>\n",
       "      <td>634995</td>\n",
       "      <td>0</td>\n",
       "      <td>463</td>\n",
       "      <td>1</td>\n",
       "      <td>0.0</td>\n",
       "      <td>806.0</td>\n",
       "      <td>11.291045</td>\n",
       "      <td>1.0</td>\n",
       "      <td>70.495138</td>\n",
       "      <td>0.0</td>\n",
       "      <td>...</td>\n",
       "      <td>0</td>\n",
       "      <td>0</td>\n",
       "      <td>0</td>\n",
       "      <td>0</td>\n",
       "      <td>0</td>\n",
       "      <td>1</td>\n",
       "      <td>0</td>\n",
       "      <td>0</td>\n",
       "      <td>0</td>\n",
       "      <td>0</td>\n",
       "    </tr>\n",
       "  </tbody>\n",
       "</table>\n",
       "<p>5 rows × 54 columns</p>\n",
       "</div>"
      ],
      "text/plain": [
       "   page_likes  page_checkins  page_talking  page_category  cc1_min  cc1_max  \\\n",
       "0      634995              0           463              1      0.0    806.0   \n",
       "1      634995              0           463              1      0.0    806.0   \n",
       "2      634995              0           463              1      0.0    806.0   \n",
       "3      634995              0           463              1      0.0    806.0   \n",
       "4      634995              0           463              1      0.0    806.0   \n",
       "\n",
       "     cc1_avg  cc1_med    cc1_std  cc2_min  ...  post_pub_friday  \\\n",
       "0  11.291045      1.0  70.495138      0.0  ...                0   \n",
       "1  11.291045      1.0  70.495138      0.0  ...                0   \n",
       "2  11.291045      1.0  70.495138      0.0  ...                1   \n",
       "3  11.291045      1.0  70.495138      0.0  ...                1   \n",
       "4  11.291045      1.0  70.495138      0.0  ...                0   \n",
       "\n",
       "   post_pub_saturday  base_date_sunday  base_date_monday  base_date_tuesday  \\\n",
       "0                  0                 0                 0                  0   \n",
       "1                  0                 0                 0                  0   \n",
       "2                  0                 0                 0                  0   \n",
       "3                  0                 0                 1                  0   \n",
       "4                  0                 0                 0                  0   \n",
       "\n",
       "   base_date_wednesday  base_date_thursday  base_date_friday  \\\n",
       "0                    0                   0                 0   \n",
       "1                    0                   0                 1   \n",
       "2                    0                   0                 0   \n",
       "3                    0                   0                 0   \n",
       "4                    1                   0                 0   \n",
       "\n",
       "   base_date_saturday  target  \n",
       "0                   1       0  \n",
       "1                   0       0  \n",
       "2                   1       0  \n",
       "3                   0       0  \n",
       "4                   0       0  \n",
       "\n",
       "[5 rows x 54 columns]"
      ]
     },
     "execution_count": 3,
     "metadata": {},
     "output_type": "execute_result"
    }
   ],
   "source": [
    "names=['page_likes','page_checkins','page_talking','page_category',\n",
    "         'cc1_min','cc1_max','cc1_avg','cc1_med','cc1_std',\n",
    "         'cc2_min','cc2_max','cc2_avg','cc2_med','cc2_std',\n",
    "         'cc3_min','cc3_max','cc3_avg','cc3_med','cc3_std',\n",
    "         'cc4_min','cc4_max','cc4_avg','cc4_med','cc4_std',\n",
    "         'cc5_min','cc5_max','cc5_avg','cc5_med','cc5_std',\n",
    "         'CC1','CC2','CC3','CC4','CC5',\n",
    "         'base_time','post_length','post_share_count','post_promotion_status',\n",
    "         'hour_local',\n",
    "         'post_pub_sunday','post_pub_monday','post_pub_tuesday','post_pub_wednesday','post_pub_thursday','post_pub_friday','post_pub_saturday',\n",
    "         'base_date_sunday','base_date_monday','base_date_tuesday','base_date_wednesday','base_date_thursday','base_date_friday','base_date_saturday',\n",
    "         'target'\n",
    "        ]\n",
    "data = 'Data/Features_Variant_1.csv'\n",
    "df = pd.read_csv(data,header=None,names=names)\n",
    "df.head()"
   ]
  },
  {
   "cell_type": "code",
   "execution_count": 4,
   "metadata": {},
   "outputs": [
    {
     "name": "stdout",
     "output_type": "stream",
     "text": [
      "<class 'pandas.core.frame.DataFrame'>\n",
      "RangeIndex: 40949 entries, 0 to 40948\n",
      "Data columns (total 54 columns):\n",
      " #   Column                 Non-Null Count  Dtype  \n",
      "---  ------                 --------------  -----  \n",
      " 0   page_likes             40949 non-null  int64  \n",
      " 1   page_checkins          40949 non-null  int64  \n",
      " 2   page_talking           40949 non-null  int64  \n",
      " 3   page_category          40949 non-null  int64  \n",
      " 4   cc1_min                40949 non-null  float64\n",
      " 5   cc1_max                40949 non-null  float64\n",
      " 6   cc1_avg                40949 non-null  float64\n",
      " 7   cc1_med                40949 non-null  float64\n",
      " 8   cc1_std                40949 non-null  float64\n",
      " 9   cc2_min                40949 non-null  float64\n",
      " 10  cc2_max                40949 non-null  float64\n",
      " 11  cc2_avg                40949 non-null  float64\n",
      " 12  cc2_med                40949 non-null  float64\n",
      " 13  cc2_std                40949 non-null  float64\n",
      " 14  cc3_min                40949 non-null  float64\n",
      " 15  cc3_max                40949 non-null  float64\n",
      " 16  cc3_avg                40949 non-null  float64\n",
      " 17  cc3_med                40949 non-null  float64\n",
      " 18  cc3_std                40949 non-null  float64\n",
      " 19  cc4_min                40949 non-null  float64\n",
      " 20  cc4_max                40949 non-null  float64\n",
      " 21  cc4_avg                40949 non-null  float64\n",
      " 22  cc4_med                40949 non-null  float64\n",
      " 23  cc4_std                40949 non-null  float64\n",
      " 24  cc5_min                40949 non-null  float64\n",
      " 25  cc5_max                40949 non-null  float64\n",
      " 26  cc5_avg                40949 non-null  float64\n",
      " 27  cc5_med                40949 non-null  float64\n",
      " 28  cc5_std                40949 non-null  float64\n",
      " 29  CC1                    40949 non-null  int64  \n",
      " 30  CC2                    40949 non-null  int64  \n",
      " 31  CC3                    40949 non-null  int64  \n",
      " 32  CC4                    40949 non-null  int64  \n",
      " 33  CC5                    40949 non-null  int64  \n",
      " 34  base_time              40949 non-null  int64  \n",
      " 35  post_length            40949 non-null  int64  \n",
      " 36  post_share_count       40949 non-null  int64  \n",
      " 37  post_promotion_status  40949 non-null  int64  \n",
      " 38  hour_local             40949 non-null  int64  \n",
      " 39  post_pub_sunday        40949 non-null  int64  \n",
      " 40  post_pub_monday        40949 non-null  int64  \n",
      " 41  post_pub_tuesday       40949 non-null  int64  \n",
      " 42  post_pub_wednesday     40949 non-null  int64  \n",
      " 43  post_pub_thursday      40949 non-null  int64  \n",
      " 44  post_pub_friday        40949 non-null  int64  \n",
      " 45  post_pub_saturday      40949 non-null  int64  \n",
      " 46  base_date_sunday       40949 non-null  int64  \n",
      " 47  base_date_monday       40949 non-null  int64  \n",
      " 48  base_date_tuesday      40949 non-null  int64  \n",
      " 49  base_date_wednesday    40949 non-null  int64  \n",
      " 50  base_date_thursday     40949 non-null  int64  \n",
      " 51  base_date_friday       40949 non-null  int64  \n",
      " 52  base_date_saturday     40949 non-null  int64  \n",
      " 53  target                 40949 non-null  int64  \n",
      "dtypes: float64(25), int64(29)\n",
      "memory usage: 16.9 MB\n"
     ]
    }
   ],
   "source": [
    "df.info()"
   ]
  },
  {
   "cell_type": "markdown",
   "metadata": {},
   "source": [
    "We seem to be dealing with only numerical values.\n",
    "\n",
    "- 15 features are binary\n",
    "    - post_pub_sunday/.../post_pub_saturday\n",
    "    - base_date_sunday/.../base_date_saturday\n",
    "- One is categorical\n",
    "    - page_category\n",
    "- The others are continuous"
   ]
  },
  {
   "cell_type": "code",
   "execution_count": 5,
   "metadata": {},
   "outputs": [
    {
     "data": {
      "text/plain": [
       "page_likes               False\n",
       "page_checkins            False\n",
       "page_talking             False\n",
       "page_category            False\n",
       "cc1_min                  False\n",
       "cc1_max                  False\n",
       "cc1_avg                  False\n",
       "cc1_med                  False\n",
       "cc1_std                  False\n",
       "cc2_min                  False\n",
       "cc2_max                  False\n",
       "cc2_avg                  False\n",
       "cc2_med                  False\n",
       "cc2_std                  False\n",
       "cc3_min                  False\n",
       "cc3_max                  False\n",
       "cc3_avg                  False\n",
       "cc3_med                  False\n",
       "cc3_std                  False\n",
       "cc4_min                  False\n",
       "cc4_max                  False\n",
       "cc4_avg                  False\n",
       "cc4_med                  False\n",
       "cc4_std                  False\n",
       "cc5_min                  False\n",
       "cc5_max                  False\n",
       "cc5_avg                  False\n",
       "cc5_med                  False\n",
       "cc5_std                  False\n",
       "CC1                      False\n",
       "CC2                      False\n",
       "CC3                      False\n",
       "CC4                      False\n",
       "CC5                      False\n",
       "base_time                False\n",
       "post_length              False\n",
       "post_share_count         False\n",
       "post_promotion_status    False\n",
       "hour_local               False\n",
       "post_pub_sunday          False\n",
       "post_pub_monday          False\n",
       "post_pub_tuesday         False\n",
       "post_pub_wednesday       False\n",
       "post_pub_thursday        False\n",
       "post_pub_friday          False\n",
       "post_pub_saturday        False\n",
       "base_date_sunday         False\n",
       "base_date_monday         False\n",
       "base_date_tuesday        False\n",
       "base_date_wednesday      False\n",
       "base_date_thursday       False\n",
       "base_date_friday         False\n",
       "base_date_saturday       False\n",
       "target                   False\n",
       "dtype: bool"
      ]
     },
     "execution_count": 5,
     "metadata": {},
     "output_type": "execute_result"
    }
   ],
   "source": [
    "df.isna().any()"
   ]
  },
  {
   "cell_type": "markdown",
   "metadata": {},
   "source": [
    "There are no missing values."
   ]
  },
  {
   "cell_type": "code",
   "execution_count": 6,
   "metadata": {},
   "outputs": [
    {
     "data": {
      "text/html": [
       "<div>\n",
       "<style scoped>\n",
       "    .dataframe tbody tr th:only-of-type {\n",
       "        vertical-align: middle;\n",
       "    }\n",
       "\n",
       "    .dataframe tbody tr th {\n",
       "        vertical-align: top;\n",
       "    }\n",
       "\n",
       "    .dataframe thead th {\n",
       "        text-align: right;\n",
       "    }\n",
       "</style>\n",
       "<table border=\"1\" class=\"dataframe\">\n",
       "  <thead>\n",
       "    <tr style=\"text-align: right;\">\n",
       "      <th></th>\n",
       "      <th>page_likes</th>\n",
       "      <th>page_checkins</th>\n",
       "      <th>page_talking</th>\n",
       "      <th>page_category</th>\n",
       "      <th>cc1_min</th>\n",
       "      <th>cc1_max</th>\n",
       "      <th>cc1_avg</th>\n",
       "      <th>cc1_med</th>\n",
       "      <th>cc1_std</th>\n",
       "      <th>cc2_min</th>\n",
       "      <th>...</th>\n",
       "      <th>post_pub_friday</th>\n",
       "      <th>post_pub_saturday</th>\n",
       "      <th>base_date_sunday</th>\n",
       "      <th>base_date_monday</th>\n",
       "      <th>base_date_tuesday</th>\n",
       "      <th>base_date_wednesday</th>\n",
       "      <th>base_date_thursday</th>\n",
       "      <th>base_date_friday</th>\n",
       "      <th>base_date_saturday</th>\n",
       "      <th>target</th>\n",
       "    </tr>\n",
       "  </thead>\n",
       "  <tbody>\n",
       "    <tr>\n",
       "      <th>count</th>\n",
       "      <td>4.094900e+04</td>\n",
       "      <td>40949.000000</td>\n",
       "      <td>4.094900e+04</td>\n",
       "      <td>40949.000000</td>\n",
       "      <td>40949.000000</td>\n",
       "      <td>40949.000000</td>\n",
       "      <td>40949.000000</td>\n",
       "      <td>40949.000000</td>\n",
       "      <td>40949.000000</td>\n",
       "      <td>40949.000000</td>\n",
       "      <td>...</td>\n",
       "      <td>40949.000000</td>\n",
       "      <td>40949.000000</td>\n",
       "      <td>40949.000000</td>\n",
       "      <td>40949.000000</td>\n",
       "      <td>40949.000000</td>\n",
       "      <td>40949.000000</td>\n",
       "      <td>40949.000000</td>\n",
       "      <td>40949.000000</td>\n",
       "      <td>40949.000000</td>\n",
       "      <td>40949.000000</td>\n",
       "    </tr>\n",
       "    <tr>\n",
       "      <th>mean</th>\n",
       "      <td>1.313814e+06</td>\n",
       "      <td>4676.133752</td>\n",
       "      <td>4.480025e+04</td>\n",
       "      <td>24.254780</td>\n",
       "      <td>1.586241</td>\n",
       "      <td>443.333854</td>\n",
       "      <td>55.720384</td>\n",
       "      <td>35.645535</td>\n",
       "      <td>67.464151</td>\n",
       "      <td>0.219468</td>\n",
       "      <td>...</td>\n",
       "      <td>0.146157</td>\n",
       "      <td>0.136926</td>\n",
       "      <td>0.141640</td>\n",
       "      <td>0.132506</td>\n",
       "      <td>0.137635</td>\n",
       "      <td>0.148599</td>\n",
       "      <td>0.150846</td>\n",
       "      <td>0.143886</td>\n",
       "      <td>0.144888</td>\n",
       "      <td>7.322889</td>\n",
       "    </tr>\n",
       "    <tr>\n",
       "      <th>std</th>\n",
       "      <td>6.785752e+06</td>\n",
       "      <td>20593.184863</td>\n",
       "      <td>1.109338e+05</td>\n",
       "      <td>19.950583</td>\n",
       "      <td>20.753174</td>\n",
       "      <td>496.695198</td>\n",
       "      <td>86.933548</td>\n",
       "      <td>69.960232</td>\n",
       "      <td>81.568249</td>\n",
       "      <td>10.055146</td>\n",
       "      <td>...</td>\n",
       "      <td>0.353268</td>\n",
       "      <td>0.343774</td>\n",
       "      <td>0.348684</td>\n",
       "      <td>0.339045</td>\n",
       "      <td>0.344520</td>\n",
       "      <td>0.355698</td>\n",
       "      <td>0.357903</td>\n",
       "      <td>0.350979</td>\n",
       "      <td>0.351992</td>\n",
       "      <td>35.494550</td>\n",
       "    </tr>\n",
       "    <tr>\n",
       "      <th>min</th>\n",
       "      <td>3.600000e+01</td>\n",
       "      <td>0.000000</td>\n",
       "      <td>0.000000e+00</td>\n",
       "      <td>1.000000</td>\n",
       "      <td>0.000000</td>\n",
       "      <td>0.000000</td>\n",
       "      <td>0.000000</td>\n",
       "      <td>0.000000</td>\n",
       "      <td>0.000000</td>\n",
       "      <td>0.000000</td>\n",
       "      <td>...</td>\n",
       "      <td>0.000000</td>\n",
       "      <td>0.000000</td>\n",
       "      <td>0.000000</td>\n",
       "      <td>0.000000</td>\n",
       "      <td>0.000000</td>\n",
       "      <td>0.000000</td>\n",
       "      <td>0.000000</td>\n",
       "      <td>0.000000</td>\n",
       "      <td>0.000000</td>\n",
       "      <td>0.000000</td>\n",
       "    </tr>\n",
       "    <tr>\n",
       "      <th>25%</th>\n",
       "      <td>3.673400e+04</td>\n",
       "      <td>0.000000</td>\n",
       "      <td>6.980000e+02</td>\n",
       "      <td>9.000000</td>\n",
       "      <td>0.000000</td>\n",
       "      <td>45.000000</td>\n",
       "      <td>5.527273</td>\n",
       "      <td>2.000000</td>\n",
       "      <td>8.278756</td>\n",
       "      <td>0.000000</td>\n",
       "      <td>...</td>\n",
       "      <td>0.000000</td>\n",
       "      <td>0.000000</td>\n",
       "      <td>0.000000</td>\n",
       "      <td>0.000000</td>\n",
       "      <td>0.000000</td>\n",
       "      <td>0.000000</td>\n",
       "      <td>0.000000</td>\n",
       "      <td>0.000000</td>\n",
       "      <td>0.000000</td>\n",
       "      <td>0.000000</td>\n",
       "    </tr>\n",
       "    <tr>\n",
       "      <th>50%</th>\n",
       "      <td>2.929110e+05</td>\n",
       "      <td>0.000000</td>\n",
       "      <td>7.045000e+03</td>\n",
       "      <td>18.000000</td>\n",
       "      <td>0.000000</td>\n",
       "      <td>241.000000</td>\n",
       "      <td>23.374101</td>\n",
       "      <td>12.000000</td>\n",
       "      <td>35.069140</td>\n",
       "      <td>0.000000</td>\n",
       "      <td>...</td>\n",
       "      <td>0.000000</td>\n",
       "      <td>0.000000</td>\n",
       "      <td>0.000000</td>\n",
       "      <td>0.000000</td>\n",
       "      <td>0.000000</td>\n",
       "      <td>0.000000</td>\n",
       "      <td>0.000000</td>\n",
       "      <td>0.000000</td>\n",
       "      <td>0.000000</td>\n",
       "      <td>0.000000</td>\n",
       "    </tr>\n",
       "    <tr>\n",
       "      <th>75%</th>\n",
       "      <td>1.204214e+06</td>\n",
       "      <td>99.000000</td>\n",
       "      <td>5.026400e+04</td>\n",
       "      <td>32.000000</td>\n",
       "      <td>0.000000</td>\n",
       "      <td>717.000000</td>\n",
       "      <td>71.828829</td>\n",
       "      <td>42.000000</td>\n",
       "      <td>102.554954</td>\n",
       "      <td>0.000000</td>\n",
       "      <td>...</td>\n",
       "      <td>0.000000</td>\n",
       "      <td>0.000000</td>\n",
       "      <td>0.000000</td>\n",
       "      <td>0.000000</td>\n",
       "      <td>0.000000</td>\n",
       "      <td>0.000000</td>\n",
       "      <td>0.000000</td>\n",
       "      <td>0.000000</td>\n",
       "      <td>0.000000</td>\n",
       "      <td>3.000000</td>\n",
       "    </tr>\n",
       "    <tr>\n",
       "      <th>max</th>\n",
       "      <td>4.869723e+08</td>\n",
       "      <td>186370.000000</td>\n",
       "      <td>6.089942e+06</td>\n",
       "      <td>106.000000</td>\n",
       "      <td>2341.000000</td>\n",
       "      <td>2341.000000</td>\n",
       "      <td>2341.000000</td>\n",
       "      <td>2341.000000</td>\n",
       "      <td>731.394558</td>\n",
       "      <td>1923.000000</td>\n",
       "      <td>...</td>\n",
       "      <td>1.000000</td>\n",
       "      <td>1.000000</td>\n",
       "      <td>1.000000</td>\n",
       "      <td>1.000000</td>\n",
       "      <td>1.000000</td>\n",
       "      <td>1.000000</td>\n",
       "      <td>1.000000</td>\n",
       "      <td>1.000000</td>\n",
       "      <td>1.000000</td>\n",
       "      <td>1305.000000</td>\n",
       "    </tr>\n",
       "  </tbody>\n",
       "</table>\n",
       "<p>8 rows × 54 columns</p>\n",
       "</div>"
      ],
      "text/plain": [
       "         page_likes  page_checkins  page_talking  page_category       cc1_min  \\\n",
       "count  4.094900e+04   40949.000000  4.094900e+04   40949.000000  40949.000000   \n",
       "mean   1.313814e+06    4676.133752  4.480025e+04      24.254780      1.586241   \n",
       "std    6.785752e+06   20593.184863  1.109338e+05      19.950583     20.753174   \n",
       "min    3.600000e+01       0.000000  0.000000e+00       1.000000      0.000000   \n",
       "25%    3.673400e+04       0.000000  6.980000e+02       9.000000      0.000000   \n",
       "50%    2.929110e+05       0.000000  7.045000e+03      18.000000      0.000000   \n",
       "75%    1.204214e+06      99.000000  5.026400e+04      32.000000      0.000000   \n",
       "max    4.869723e+08  186370.000000  6.089942e+06     106.000000   2341.000000   \n",
       "\n",
       "            cc1_max       cc1_avg       cc1_med       cc1_std       cc2_min  \\\n",
       "count  40949.000000  40949.000000  40949.000000  40949.000000  40949.000000   \n",
       "mean     443.333854     55.720384     35.645535     67.464151      0.219468   \n",
       "std      496.695198     86.933548     69.960232     81.568249     10.055146   \n",
       "min        0.000000      0.000000      0.000000      0.000000      0.000000   \n",
       "25%       45.000000      5.527273      2.000000      8.278756      0.000000   \n",
       "50%      241.000000     23.374101     12.000000     35.069140      0.000000   \n",
       "75%      717.000000     71.828829     42.000000    102.554954      0.000000   \n",
       "max     2341.000000   2341.000000   2341.000000    731.394558   1923.000000   \n",
       "\n",
       "       ...  post_pub_friday  post_pub_saturday  base_date_sunday  \\\n",
       "count  ...     40949.000000       40949.000000      40949.000000   \n",
       "mean   ...         0.146157           0.136926          0.141640   \n",
       "std    ...         0.353268           0.343774          0.348684   \n",
       "min    ...         0.000000           0.000000          0.000000   \n",
       "25%    ...         0.000000           0.000000          0.000000   \n",
       "50%    ...         0.000000           0.000000          0.000000   \n",
       "75%    ...         0.000000           0.000000          0.000000   \n",
       "max    ...         1.000000           1.000000          1.000000   \n",
       "\n",
       "       base_date_monday  base_date_tuesday  base_date_wednesday  \\\n",
       "count      40949.000000       40949.000000         40949.000000   \n",
       "mean           0.132506           0.137635             0.148599   \n",
       "std            0.339045           0.344520             0.355698   \n",
       "min            0.000000           0.000000             0.000000   \n",
       "25%            0.000000           0.000000             0.000000   \n",
       "50%            0.000000           0.000000             0.000000   \n",
       "75%            0.000000           0.000000             0.000000   \n",
       "max            1.000000           1.000000             1.000000   \n",
       "\n",
       "       base_date_thursday  base_date_friday  base_date_saturday        target  \n",
       "count        40949.000000      40949.000000        40949.000000  40949.000000  \n",
       "mean             0.150846          0.143886            0.144888      7.322889  \n",
       "std              0.357903          0.350979            0.351992     35.494550  \n",
       "min              0.000000          0.000000            0.000000      0.000000  \n",
       "25%              0.000000          0.000000            0.000000      0.000000  \n",
       "50%              0.000000          0.000000            0.000000      0.000000  \n",
       "75%              0.000000          0.000000            0.000000      3.000000  \n",
       "max              1.000000          1.000000            1.000000   1305.000000  \n",
       "\n",
       "[8 rows x 54 columns]"
      ]
     },
     "execution_count": 6,
     "metadata": {},
     "output_type": "execute_result"
    }
   ],
   "source": [
    "df.describe()"
   ]
  },
  {
   "cell_type": "markdown",
   "metadata": {},
   "source": [
    "The 'post_promotion_status' feature doesn't seem useful, so let's get rid of it."
   ]
  },
  {
   "cell_type": "code",
   "execution_count": 7,
   "metadata": {},
   "outputs": [
    {
     "data": {
      "text/html": [
       "<div>\n",
       "<style scoped>\n",
       "    .dataframe tbody tr th:only-of-type {\n",
       "        vertical-align: middle;\n",
       "    }\n",
       "\n",
       "    .dataframe tbody tr th {\n",
       "        vertical-align: top;\n",
       "    }\n",
       "\n",
       "    .dataframe thead th {\n",
       "        text-align: right;\n",
       "    }\n",
       "</style>\n",
       "<table border=\"1\" class=\"dataframe\">\n",
       "  <thead>\n",
       "    <tr style=\"text-align: right;\">\n",
       "      <th></th>\n",
       "      <th>page_likes</th>\n",
       "      <th>page_checkins</th>\n",
       "      <th>page_talking</th>\n",
       "      <th>page_category</th>\n",
       "      <th>cc1_min</th>\n",
       "      <th>cc1_max</th>\n",
       "      <th>cc1_avg</th>\n",
       "      <th>cc1_med</th>\n",
       "      <th>cc1_std</th>\n",
       "      <th>cc2_min</th>\n",
       "      <th>...</th>\n",
       "      <th>post_pub_friday</th>\n",
       "      <th>post_pub_saturday</th>\n",
       "      <th>base_date_sunday</th>\n",
       "      <th>base_date_monday</th>\n",
       "      <th>base_date_tuesday</th>\n",
       "      <th>base_date_wednesday</th>\n",
       "      <th>base_date_thursday</th>\n",
       "      <th>base_date_friday</th>\n",
       "      <th>base_date_saturday</th>\n",
       "      <th>target</th>\n",
       "    </tr>\n",
       "  </thead>\n",
       "  <tbody>\n",
       "    <tr>\n",
       "      <th>0</th>\n",
       "      <td>634995</td>\n",
       "      <td>0</td>\n",
       "      <td>463</td>\n",
       "      <td>1</td>\n",
       "      <td>0.0</td>\n",
       "      <td>806.0</td>\n",
       "      <td>11.291045</td>\n",
       "      <td>1.0</td>\n",
       "      <td>70.495138</td>\n",
       "      <td>0.0</td>\n",
       "      <td>...</td>\n",
       "      <td>0</td>\n",
       "      <td>0</td>\n",
       "      <td>0</td>\n",
       "      <td>0</td>\n",
       "      <td>0</td>\n",
       "      <td>0</td>\n",
       "      <td>0</td>\n",
       "      <td>0</td>\n",
       "      <td>1</td>\n",
       "      <td>0</td>\n",
       "    </tr>\n",
       "    <tr>\n",
       "      <th>1</th>\n",
       "      <td>634995</td>\n",
       "      <td>0</td>\n",
       "      <td>463</td>\n",
       "      <td>1</td>\n",
       "      <td>0.0</td>\n",
       "      <td>806.0</td>\n",
       "      <td>11.291045</td>\n",
       "      <td>1.0</td>\n",
       "      <td>70.495138</td>\n",
       "      <td>0.0</td>\n",
       "      <td>...</td>\n",
       "      <td>0</td>\n",
       "      <td>0</td>\n",
       "      <td>0</td>\n",
       "      <td>0</td>\n",
       "      <td>0</td>\n",
       "      <td>0</td>\n",
       "      <td>0</td>\n",
       "      <td>1</td>\n",
       "      <td>0</td>\n",
       "      <td>0</td>\n",
       "    </tr>\n",
       "    <tr>\n",
       "      <th>2</th>\n",
       "      <td>634995</td>\n",
       "      <td>0</td>\n",
       "      <td>463</td>\n",
       "      <td>1</td>\n",
       "      <td>0.0</td>\n",
       "      <td>806.0</td>\n",
       "      <td>11.291045</td>\n",
       "      <td>1.0</td>\n",
       "      <td>70.495138</td>\n",
       "      <td>0.0</td>\n",
       "      <td>...</td>\n",
       "      <td>1</td>\n",
       "      <td>0</td>\n",
       "      <td>0</td>\n",
       "      <td>0</td>\n",
       "      <td>0</td>\n",
       "      <td>0</td>\n",
       "      <td>0</td>\n",
       "      <td>0</td>\n",
       "      <td>1</td>\n",
       "      <td>0</td>\n",
       "    </tr>\n",
       "    <tr>\n",
       "      <th>3</th>\n",
       "      <td>634995</td>\n",
       "      <td>0</td>\n",
       "      <td>463</td>\n",
       "      <td>1</td>\n",
       "      <td>0.0</td>\n",
       "      <td>806.0</td>\n",
       "      <td>11.291045</td>\n",
       "      <td>1.0</td>\n",
       "      <td>70.495138</td>\n",
       "      <td>0.0</td>\n",
       "      <td>...</td>\n",
       "      <td>1</td>\n",
       "      <td>0</td>\n",
       "      <td>0</td>\n",
       "      <td>1</td>\n",
       "      <td>0</td>\n",
       "      <td>0</td>\n",
       "      <td>0</td>\n",
       "      <td>0</td>\n",
       "      <td>0</td>\n",
       "      <td>0</td>\n",
       "    </tr>\n",
       "    <tr>\n",
       "      <th>4</th>\n",
       "      <td>634995</td>\n",
       "      <td>0</td>\n",
       "      <td>463</td>\n",
       "      <td>1</td>\n",
       "      <td>0.0</td>\n",
       "      <td>806.0</td>\n",
       "      <td>11.291045</td>\n",
       "      <td>1.0</td>\n",
       "      <td>70.495138</td>\n",
       "      <td>0.0</td>\n",
       "      <td>...</td>\n",
       "      <td>0</td>\n",
       "      <td>0</td>\n",
       "      <td>0</td>\n",
       "      <td>0</td>\n",
       "      <td>0</td>\n",
       "      <td>1</td>\n",
       "      <td>0</td>\n",
       "      <td>0</td>\n",
       "      <td>0</td>\n",
       "      <td>0</td>\n",
       "    </tr>\n",
       "  </tbody>\n",
       "</table>\n",
       "<p>5 rows × 53 columns</p>\n",
       "</div>"
      ],
      "text/plain": [
       "   page_likes  page_checkins  page_talking  page_category  cc1_min  cc1_max  \\\n",
       "0      634995              0           463              1      0.0    806.0   \n",
       "1      634995              0           463              1      0.0    806.0   \n",
       "2      634995              0           463              1      0.0    806.0   \n",
       "3      634995              0           463              1      0.0    806.0   \n",
       "4      634995              0           463              1      0.0    806.0   \n",
       "\n",
       "     cc1_avg  cc1_med    cc1_std  cc2_min  ...  post_pub_friday  \\\n",
       "0  11.291045      1.0  70.495138      0.0  ...                0   \n",
       "1  11.291045      1.0  70.495138      0.0  ...                0   \n",
       "2  11.291045      1.0  70.495138      0.0  ...                1   \n",
       "3  11.291045      1.0  70.495138      0.0  ...                1   \n",
       "4  11.291045      1.0  70.495138      0.0  ...                0   \n",
       "\n",
       "   post_pub_saturday  base_date_sunday  base_date_monday  base_date_tuesday  \\\n",
       "0                  0                 0                 0                  0   \n",
       "1                  0                 0                 0                  0   \n",
       "2                  0                 0                 0                  0   \n",
       "3                  0                 0                 1                  0   \n",
       "4                  0                 0                 0                  0   \n",
       "\n",
       "   base_date_wednesday  base_date_thursday  base_date_friday  \\\n",
       "0                    0                   0                 0   \n",
       "1                    0                   0                 1   \n",
       "2                    0                   0                 0   \n",
       "3                    0                   0                 0   \n",
       "4                    1                   0                 0   \n",
       "\n",
       "   base_date_saturday  target  \n",
       "0                   1       0  \n",
       "1                   0       0  \n",
       "2                   1       0  \n",
       "3                   0       0  \n",
       "4                   0       0  \n",
       "\n",
       "[5 rows x 53 columns]"
      ]
     },
     "execution_count": 7,
     "metadata": {},
     "output_type": "execute_result"
    }
   ],
   "source": [
    "df = df.drop(columns = \"post_promotion_status\")\n",
    "df.head()"
   ]
  },
  {
   "cell_type": "markdown",
   "metadata": {},
   "source": [
    "Now, let's check what how our data is spread. We are interested in the distribution of :\n",
    "- The page attributes\n",
    "- The post attributes\n",
    "    - Main ones\n",
    "    - The counting and target values\n",
    "    - The date and hour values"
   ]
  },
  {
   "cell_type": "code",
   "execution_count": 8,
   "metadata": {},
   "outputs": [
    {
     "data": {
      "text/plain": [
       "<matplotlib.axes._subplots.AxesSubplot at 0x22806c5f2e0>"
      ]
     },
     "execution_count": 8,
     "metadata": {},
     "output_type": "execute_result"
    },
    {
     "data": {
      "image/png": "[encoded data removed]",
      "text/plain": [
       "<Figure size 648x648 with 4 Axes>"
      ]
     },
     "metadata": {
      "needs_background": "light"
     },
     "output_type": "display_data"
    }
   ],
   "source": [
    "fig, axs = plt.subplots(ncols=2,nrows=2,figsize=(9,9))\n",
    "\n",
    "sns.boxplot(data = df, x = \"page_likes\", ax=axs[0][0])\n",
    "sns.boxplot(data = df, x = \"page_checkins\", ax=axs[0][1])\n",
    "sns.boxplot(data = df, x = \"page_talking\", ax=axs[1][0])\n",
    "sns.boxplot(data = df, x = \"page_category\", ax=axs[1][1])"
   ]
  },
  {
   "cell_type": "code",
   "execution_count": 9,
   "metadata": {},
   "outputs": [
    {
     "data": {
      "text/plain": [
       "<matplotlib.axes._subplots.AxesSubplot at 0x22806d830d0>"
      ]
     },
     "execution_count": 9,
     "metadata": {},
     "output_type": "execute_result"
    },
    {
     "data": {
      "image/png": "[encoded data removed]",
      "text/plain": [
       "<Figure size 1224x504 with 3 Axes>"
      ]
     },
     "metadata": {
      "needs_background": "light"
     },
     "output_type": "display_data"
    }
   ],
   "source": [
    "fig, (ax1, ax2, ax3) = plt.subplots(1, 3, figsize=(17,7))\n",
    "\n",
    "sns.boxplot(data = df, x = \"base_time\", ax=ax1)\n",
    "sns.boxplot(data = df, x = \"post_length\", ax=ax2)\n",
    "sns.boxplot(data = df, x = \"post_share_count\", ax=ax3)"
   ]
  },
  {
   "cell_type": "code",
   "execution_count": 10,
   "metadata": {},
   "outputs": [
    {
     "data": {
      "text/plain": [
       "<matplotlib.axes._subplots.AxesSubplot at 0x228074b13a0>"
      ]
     },
     "execution_count": 10,
     "metadata": {},
     "output_type": "execute_result"
    },
    {
     "data": {
      "image/png": "[encoded data removed]",
      "text/plain": [
       "<Figure size 1224x504 with 6 Axes>"
      ]
     },
     "metadata": {
      "needs_background": "light"
     },
     "output_type": "display_data"
    }
   ],
   "source": [
    "fig, axs = plt.subplots(ncols=3,nrows=2,figsize=(17,7))\n",
    "\n",
    "sns.boxplot(data = df, x = \"CC1\", ax=axs[0][0])\n",
    "sns.boxplot(data = df, x = \"CC2\", ax=axs[0][1])\n",
    "sns.boxplot(data = df, x = \"CC3\", ax=axs[0][2])\n",
    "sns.boxplot(data = df, x = \"CC4\", ax=axs[1][0])\n",
    "sns.boxplot(data = df, x = \"CC5\", ax=axs[1][1])\n",
    "sns.boxplot(data = df, x = \"target\", ax=axs[1][2])"
   ]
  },
  {
   "cell_type": "markdown",
   "metadata": {},
   "source": [
    "We can conclude that our data comes in many different forms. It is quite visible to notice the disparity and variety in scale, distribution and density between all the different variables."
   ]
  },
  {
   "cell_type": "markdown",
   "metadata": {},
   "source": [
    "# Data Visualization"
   ]
  },
  {
   "cell_type": "markdown",
   "metadata": {},
   "source": [
    "## Let's understand the data"
   ]
  },
  {
   "cell_type": "markdown",
   "metadata": {},
   "source": [
    "### Number of posts per day"
   ]
  },
  {
   "cell_type": "code",
   "execution_count": 11,
   "metadata": {},
   "outputs": [],
   "source": [
    "posts_per_day = list()"
   ]
  },
  {
   "cell_type": "code",
   "execution_count": 12,
   "metadata": {},
   "outputs": [],
   "source": [
    "posts_per_day.append(df[\"post_pub_sunday\"].sum())\n",
    "posts_per_day.append(df[\"post_pub_monday\"].sum())\n",
    "posts_per_day.append(df[\"post_pub_tuesday\"].sum())\n",
    "posts_per_day.append(df[\"post_pub_wednesday\"].sum())\n",
    "posts_per_day.append(df[\"post_pub_thursday\"].sum())\n",
    "posts_per_day.append(df[\"post_pub_friday\"].sum())\n",
    "posts_per_day.append(df[\"post_pub_saturday\"].sum())"
   ]
  },
  {
   "cell_type": "code",
   "execution_count": 13,
   "metadata": {},
   "outputs": [
    {
     "data": {
      "text/plain": [
       "[5010, 5868, 6132, 6449, 5898, 5985, 5607]"
      ]
     },
     "execution_count": 13,
     "metadata": {},
     "output_type": "execute_result"
    }
   ],
   "source": [
    "posts_per_day"
   ]
  },
  {
   "cell_type": "code",
   "execution_count": 14,
   "metadata": {},
   "outputs": [
    {
     "data": {
      "text/plain": [
       "<matplotlib.axes._subplots.AxesSubplot at 0x2280782b040>"
      ]
     },
     "execution_count": 14,
     "metadata": {},
     "output_type": "execute_result"
    },
    {
     "data": {
      "image/png": "[encoded data removed]",
      "text/plain": [
       "<Figure size 432x288 with 1 Axes>"
      ]
     },
     "metadata": {
      "needs_background": "light"
     },
     "output_type": "display_data"
    }
   ],
   "source": [
    "sns.barplot(y = posts_per_day, x=['Sunday','Monday','Thuesday','Wednesday','Thursday','Friday','Saturday'])"
   ]
  },
  {
   "cell_type": "markdown",
   "metadata": {},
   "source": [
    "The difference between the different days of the week is relatively small, even though there seem to be low and high peaks, respectively on Sundays and Wednesdays."
   ]
  },
  {
   "cell_type": "markdown",
   "metadata": {},
   "source": [
    "### Categories"
   ]
  },
  {
   "cell_type": "markdown",
   "metadata": {},
   "source": [
    "How many categories are there ? Which are the most and less active ones ?"
   ]
  },
  {
   "cell_type": "code",
   "execution_count": 15,
   "metadata": {
    "scrolled": true
   },
   "outputs": [
    {
     "data": {
      "text/plain": [
       "9     7494\n",
       "24    4511\n",
       "18    4301\n",
       "36    2387\n",
       "16    1890\n",
       "      ... \n",
       "62      16\n",
       "63       4\n",
       "58       2\n",
       "93       1\n",
       "83       1\n",
       "Name: page_category, Length: 81, dtype: int64"
      ]
     },
     "execution_count": 15,
     "metadata": {},
     "output_type": "execute_result"
    }
   ],
   "source": [
    "df.page_category.value_counts()"
   ]
  },
  {
   "cell_type": "markdown",
   "metadata": {},
   "source": [
    "There are 81 different categories. The ninth is the most frequent."
   ]
  },
  {
   "cell_type": "code",
   "execution_count": 16,
   "metadata": {},
   "outputs": [
    {
     "data": {
      "text/plain": [
       "<matplotlib.axes._subplots.AxesSubplot at 0x22807a971c0>"
      ]
     },
     "execution_count": 16,
     "metadata": {},
     "output_type": "execute_result"
    },
    {
     "data": {
      "image/png": "[encoded data removed]",
      "text/plain": [
       "<Figure size 432x288 with 1 Axes>"
      ]
     },
     "metadata": {
      "needs_background": "light"
     },
     "output_type": "display_data"
    }
   ],
   "source": [
    "df.page_category.hist(bins=81)"
   ]
  },
  {
   "cell_type": "markdown",
   "metadata": {},
   "source": [
    "### Correlation between variables and the target"
   ]
  },
  {
   "cell_type": "code",
   "execution_count": 17,
   "metadata": {},
   "outputs": [
    {
     "data": {
      "text/plain": [
       "target                 1.000000\n",
       "CC2                    0.528696\n",
       "CC5                    0.378453\n",
       "cc2_avg                0.344827\n",
       "CC4                    0.341741\n",
       "cc1_avg                0.334986\n",
       "cc4_avg                0.333990\n",
       "CC1                    0.326882\n",
       "cc1_med                0.325367\n",
       "cc4_med                0.324373\n",
       "cc3_avg                0.317867\n",
       "cc2_med                0.309461\n",
       "cc5_std                0.308800\n",
       "cc1_std                0.300229\n",
       "cc2_std                0.297203\n",
       "cc3_std                0.296790\n",
       "cc4_std                0.295221\n",
       "cc3_med                0.276432\n",
       "cc1_max                0.231432\n",
       "cc3_max                0.229884\n",
       "cc4_max                0.225908\n",
       "cc2_max                0.217754\n",
       "cc5_max                0.213866\n",
       "page_talking           0.177330\n",
       "cc4_min                0.164300\n",
       "cc5_avg                0.162492\n",
       "cc1_min                0.156940\n",
       "post_share_count       0.139295\n",
       "cc2_min                0.103345\n",
       "CC3                    0.072088\n",
       "page_likes             0.058918\n",
       "page_checkins          0.022982\n",
       "post_pub_wednesday     0.021169\n",
       "base_date_wednesday    0.017299\n",
       "hour_local             0.012584\n",
       "cc3_min                0.011900\n",
       "base_date_thursday     0.007104\n",
       "post_pub_sunday        0.001449\n",
       "post_pub_tuesday       0.001263\n",
       "base_date_tuesday     -0.000131\n",
       "base_date_monday      -0.000266\n",
       "post_length           -0.000622\n",
       "base_date_friday      -0.001383\n",
       "post_pub_monday       -0.003071\n",
       "post_pub_thursday     -0.004486\n",
       "post_pub_friday       -0.005043\n",
       "base_date_saturday    -0.010611\n",
       "post_pub_saturday     -0.012229\n",
       "base_date_sunday      -0.012447\n",
       "cc5_med               -0.019504\n",
       "page_category         -0.073673\n",
       "cc5_min               -0.214047\n",
       "base_time             -0.221962\n",
       "Name: target, dtype: float64"
      ]
     },
     "execution_count": 17,
     "metadata": {},
     "output_type": "execute_result"
    }
   ],
   "source": [
    "correlation = df.corr()\n",
    "correlation['target'].sort_values(ascending=False)"
   ]
  },
  {
   "cell_type": "code",
   "execution_count": 18,
   "metadata": {},
   "outputs": [
    {
     "data": {
      "image/png": "[encoded data removed]",
      "text/plain": [
       "<Figure size 1152x1152 with 2 Axes>"
      ]
     },
     "metadata": {
      "needs_background": "light"
     },
     "output_type": "display_data"
    }
   ],
   "source": [
    "f,ax = plt.subplots(figsize=(16, 16))\n",
    "sns.heatmap(correlation, annot=False, ax=ax)\n",
    "plt.show()"
   ]
  },
  {
   "cell_type": "markdown",
   "metadata": {},
   "source": [
    "As we can see, all the derived variables create zones of rich correlation both with the others variables, but also with the target."
   ]
  },
  {
   "cell_type": "markdown",
   "metadata": {},
   "source": [
    "### Correlation between the days of the week of publishing and the target"
   ]
  },
  {
   "cell_type": "code",
   "execution_count": 19,
   "metadata": {},
   "outputs": [
    {
     "data": {
      "image/png": "[encoded data removed]",
      "text/plain": [
       "<Figure size 720x504 with 2 Axes>"
      ]
     },
     "metadata": {
      "needs_background": "light"
     },
     "output_type": "display_data"
    }
   ],
   "source": [
    "f,ax = plt.subplots(figsize=(10, 7))\n",
    "\n",
    "week_days_pub_corr = [\"post_pub_sunday\", \"post_pub_monday\", \"post_pub_tuesday\", \"post_pub_wednesday\",\n",
    "                      \"post_pub_thursday\", \"post_pub_friday\", \"post_pub_saturday\", \"target\"]\n",
    "\n",
    "correlation_week_days_pub = df[week_days_pub_corr].corr()\n",
    "correlation_week_days_pub['target'].sort_values(ascending=False)\n",
    "sns.heatmap(correlation_week_days_pub, annot=True, ax=ax)\n",
    "plt.show()"
   ]
  },
  {
   "cell_type": "markdown",
   "metadata": {},
   "source": [
    "It quite clearly doesn't seem to make much of a difference if a post is published on any specific day."
   ]
  },
  {
   "cell_type": "markdown",
   "metadata": {},
   "source": [
    "### Correlation between the base_time days of the week and the target"
   ]
  },
  {
   "cell_type": "code",
   "execution_count": 20,
   "metadata": {},
   "outputs": [
    {
     "data": {
      "image/png": "[encoded data removed]",
      "text/plain": [
       "<Figure size 720x504 with 2 Axes>"
      ]
     },
     "metadata": {
      "needs_background": "light"
     },
     "output_type": "display_data"
    }
   ],
   "source": [
    "f,ax = plt.subplots(figsize=(10, 7))\n",
    "\n",
    "week_days_pub_corr = [\"base_date_sunday\", \"base_date_monday\", \"base_date_tuesday\", \"base_date_wednesday\",\n",
    "                      \"base_date_thursday\", \"base_date_friday\", \"base_date_saturday\", \"target\"]\n",
    "\n",
    "correlation_week_days_pub = df[week_days_pub_corr].corr()\n",
    "correlation_week_days_pub['target'].sort_values(ascending=False)\n",
    "sns.heatmap(correlation_week_days_pub, annot=True, ax=ax)\n",
    "plt.show()"
   ]
  },
  {
   "cell_type": "markdown",
   "metadata": {},
   "source": [
    "The results are practically identical, poor correlation."
   ]
  },
  {
   "cell_type": "markdown",
   "metadata": {},
   "source": [
    "##  Normalizing and scattering"
   ]
  },
  {
   "cell_type": "markdown",
   "metadata": {},
   "source": [
    "By normalizing, we can use scattering for data visualization."
   ]
  },
  {
   "cell_type": "code",
   "execution_count": 21,
   "metadata": {},
   "outputs": [
    {
     "data": {
      "text/html": [
       "<div>\n",
       "<style scoped>\n",
       "    .dataframe tbody tr th:only-of-type {\n",
       "        vertical-align: middle;\n",
       "    }\n",
       "\n",
       "    .dataframe tbody tr th {\n",
       "        vertical-align: top;\n",
       "    }\n",
       "\n",
       "    .dataframe thead th {\n",
       "        text-align: right;\n",
       "    }\n",
       "</style>\n",
       "<table border=\"1\" class=\"dataframe\">\n",
       "  <thead>\n",
       "    <tr style=\"text-align: right;\">\n",
       "      <th></th>\n",
       "      <th>0</th>\n",
       "      <th>1</th>\n",
       "      <th>2</th>\n",
       "      <th>3</th>\n",
       "      <th>4</th>\n",
       "      <th>5</th>\n",
       "      <th>6</th>\n",
       "      <th>7</th>\n",
       "      <th>8</th>\n",
       "      <th>9</th>\n",
       "      <th>...</th>\n",
       "      <th>43</th>\n",
       "      <th>44</th>\n",
       "      <th>45</th>\n",
       "      <th>46</th>\n",
       "      <th>47</th>\n",
       "      <th>48</th>\n",
       "      <th>49</th>\n",
       "      <th>50</th>\n",
       "      <th>51</th>\n",
       "      <th>52</th>\n",
       "    </tr>\n",
       "  </thead>\n",
       "  <tbody>\n",
       "    <tr>\n",
       "      <th>count</th>\n",
       "      <td>40949.000000</td>\n",
       "      <td>40949.000000</td>\n",
       "      <td>40949.000000</td>\n",
       "      <td>4.094900e+04</td>\n",
       "      <td>40949.000000</td>\n",
       "      <td>40949.000000</td>\n",
       "      <td>40949.000000</td>\n",
       "      <td>40949.000000</td>\n",
       "      <td>40949.000000</td>\n",
       "      <td>4.094900e+04</td>\n",
       "      <td>...</td>\n",
       "      <td>40949.000000</td>\n",
       "      <td>40949.000000</td>\n",
       "      <td>40949.000000</td>\n",
       "      <td>40949.000000</td>\n",
       "      <td>40949.000000</td>\n",
       "      <td>40949.000000</td>\n",
       "      <td>40949.000000</td>\n",
       "      <td>40949.000000</td>\n",
       "      <td>40949.000000</td>\n",
       "      <td>40949.000000</td>\n",
       "    </tr>\n",
       "    <tr>\n",
       "      <th>mean</th>\n",
       "      <td>0.983812</td>\n",
       "      <td>0.025267</td>\n",
       "      <td>0.058903</td>\n",
       "      <td>2.217903e-03</td>\n",
       "      <td>0.000008</td>\n",
       "      <td>0.002787</td>\n",
       "      <td>0.000311</td>\n",
       "      <td>0.000179</td>\n",
       "      <td>0.000434</td>\n",
       "      <td>6.565721e-07</td>\n",
       "      <td>...</td>\n",
       "      <td>0.000010</td>\n",
       "      <td>0.000010</td>\n",
       "      <td>0.000010</td>\n",
       "      <td>0.000009</td>\n",
       "      <td>0.000012</td>\n",
       "      <td>0.000013</td>\n",
       "      <td>0.000011</td>\n",
       "      <td>0.000011</td>\n",
       "      <td>0.000010</td>\n",
       "      <td>0.000042</td>\n",
       "    </tr>\n",
       "    <tr>\n",
       "      <th>std</th>\n",
       "      <td>0.067383</td>\n",
       "      <td>0.116617</td>\n",
       "      <td>0.081969</td>\n",
       "      <td>1.217792e-02</td>\n",
       "      <td>0.000256</td>\n",
       "      <td>0.008208</td>\n",
       "      <td>0.000954</td>\n",
       "      <td>0.000683</td>\n",
       "      <td>0.001181</td>\n",
       "      <td>7.319091e-05</td>\n",
       "      <td>...</td>\n",
       "      <td>0.000111</td>\n",
       "      <td>0.000118</td>\n",
       "      <td>0.000121</td>\n",
       "      <td>0.000103</td>\n",
       "      <td>0.000192</td>\n",
       "      <td>0.000186</td>\n",
       "      <td>0.000148</td>\n",
       "      <td>0.000144</td>\n",
       "      <td>0.000121</td>\n",
       "      <td>0.000477</td>\n",
       "    </tr>\n",
       "    <tr>\n",
       "      <th>min</th>\n",
       "      <td>0.047232</td>\n",
       "      <td>0.000000</td>\n",
       "      <td>0.000000</td>\n",
       "      <td>6.148958e-09</td>\n",
       "      <td>0.000000</td>\n",
       "      <td>0.000000</td>\n",
       "      <td>0.000000</td>\n",
       "      <td>0.000000</td>\n",
       "      <td>0.000000</td>\n",
       "      <td>0.000000e+00</td>\n",
       "      <td>...</td>\n",
       "      <td>0.000000</td>\n",
       "      <td>0.000000</td>\n",
       "      <td>0.000000</td>\n",
       "      <td>0.000000</td>\n",
       "      <td>0.000000</td>\n",
       "      <td>0.000000</td>\n",
       "      <td>0.000000</td>\n",
       "      <td>0.000000</td>\n",
       "      <td>0.000000</td>\n",
       "      <td>0.000000</td>\n",
       "    </tr>\n",
       "    <tr>\n",
       "      <th>25%</th>\n",
       "      <td>0.994518</td>\n",
       "      <td>0.000000</td>\n",
       "      <td>0.007092</td>\n",
       "      <td>8.974377e-06</td>\n",
       "      <td>0.000000</td>\n",
       "      <td>0.000291</td>\n",
       "      <td>0.000036</td>\n",
       "      <td>0.000009</td>\n",
       "      <td>0.000050</td>\n",
       "      <td>0.000000e+00</td>\n",
       "      <td>...</td>\n",
       "      <td>0.000000</td>\n",
       "      <td>0.000000</td>\n",
       "      <td>0.000000</td>\n",
       "      <td>0.000000</td>\n",
       "      <td>0.000000</td>\n",
       "      <td>0.000000</td>\n",
       "      <td>0.000000</td>\n",
       "      <td>0.000000</td>\n",
       "      <td>0.000000</td>\n",
       "      <td>0.000000</td>\n",
       "    </tr>\n",
       "    <tr>\n",
       "      <th>50%</th>\n",
       "      <td>0.999174</td>\n",
       "      <td>0.000000</td>\n",
       "      <td>0.030617</td>\n",
       "      <td>7.406778e-05</td>\n",
       "      <td>0.000000</td>\n",
       "      <td>0.000776</td>\n",
       "      <td>0.000085</td>\n",
       "      <td>0.000038</td>\n",
       "      <td>0.000111</td>\n",
       "      <td>0.000000e+00</td>\n",
       "      <td>...</td>\n",
       "      <td>0.000000</td>\n",
       "      <td>0.000000</td>\n",
       "      <td>0.000000</td>\n",
       "      <td>0.000000</td>\n",
       "      <td>0.000000</td>\n",
       "      <td>0.000000</td>\n",
       "      <td>0.000000</td>\n",
       "      <td>0.000000</td>\n",
       "      <td>0.000000</td>\n",
       "      <td>0.000000</td>\n",
       "    </tr>\n",
       "    <tr>\n",
       "      <th>75%</th>\n",
       "      <td>0.999874</td>\n",
       "      <td>0.000198</td>\n",
       "      <td>0.072375</td>\n",
       "      <td>6.367665e-04</td>\n",
       "      <td>0.000000</td>\n",
       "      <td>0.002274</td>\n",
       "      <td>0.000250</td>\n",
       "      <td>0.000126</td>\n",
       "      <td>0.000338</td>\n",
       "      <td>0.000000e+00</td>\n",
       "      <td>...</td>\n",
       "      <td>0.000000</td>\n",
       "      <td>0.000000</td>\n",
       "      <td>0.000000</td>\n",
       "      <td>0.000000</td>\n",
       "      <td>0.000000</td>\n",
       "      <td>0.000000</td>\n",
       "      <td>0.000000</td>\n",
       "      <td>0.000000</td>\n",
       "      <td>0.000000</td>\n",
       "      <td>0.000006</td>\n",
       "    </tr>\n",
       "    <tr>\n",
       "      <th>max</th>\n",
       "      <td>1.000000</td>\n",
       "      <td>0.988438</td>\n",
       "      <td>0.566954</td>\n",
       "      <td>7.053838e-01</td>\n",
       "      <td>0.026099</td>\n",
       "      <td>0.103349</td>\n",
       "      <td>0.026099</td>\n",
       "      <td>0.026099</td>\n",
       "      <td>0.019514</td>\n",
       "      <td>1.304934e-02</td>\n",
       "      <td>...</td>\n",
       "      <td>0.005158</td>\n",
       "      <td>0.006187</td>\n",
       "      <td>0.006187</td>\n",
       "      <td>0.004974</td>\n",
       "      <td>0.021262</td>\n",
       "      <td>0.021482</td>\n",
       "      <td>0.009161</td>\n",
       "      <td>0.011600</td>\n",
       "      <td>0.008462</td>\n",
       "      <td>0.058601</td>\n",
       "    </tr>\n",
       "  </tbody>\n",
       "</table>\n",
       "<p>8 rows × 53 columns</p>\n",
       "</div>"
      ],
      "text/plain": [
       "                 0             1             2             3             4   \\\n",
       "count  40949.000000  40949.000000  40949.000000  4.094900e+04  40949.000000   \n",
       "mean       0.983812      0.025267      0.058903  2.217903e-03      0.000008   \n",
       "std        0.067383      0.116617      0.081969  1.217792e-02      0.000256   \n",
       "min        0.047232      0.000000      0.000000  6.148958e-09      0.000000   \n",
       "25%        0.994518      0.000000      0.007092  8.974377e-06      0.000000   \n",
       "50%        0.999174      0.000000      0.030617  7.406778e-05      0.000000   \n",
       "75%        0.999874      0.000198      0.072375  6.367665e-04      0.000000   \n",
       "max        1.000000      0.988438      0.566954  7.053838e-01      0.026099   \n",
       "\n",
       "                 5             6             7             8             9   \\\n",
       "count  40949.000000  40949.000000  40949.000000  40949.000000  4.094900e+04   \n",
       "mean       0.002787      0.000311      0.000179      0.000434  6.565721e-07   \n",
       "std        0.008208      0.000954      0.000683      0.001181  7.319091e-05   \n",
       "min        0.000000      0.000000      0.000000      0.000000  0.000000e+00   \n",
       "25%        0.000291      0.000036      0.000009      0.000050  0.000000e+00   \n",
       "50%        0.000776      0.000085      0.000038      0.000111  0.000000e+00   \n",
       "75%        0.002274      0.000250      0.000126      0.000338  0.000000e+00   \n",
       "max        0.103349      0.026099      0.026099      0.019514  1.304934e-02   \n",
       "\n",
       "       ...            43            44            45            46  \\\n",
       "count  ...  40949.000000  40949.000000  40949.000000  40949.000000   \n",
       "mean   ...      0.000010      0.000010      0.000010      0.000009   \n",
       "std    ...      0.000111      0.000118      0.000121      0.000103   \n",
       "min    ...      0.000000      0.000000      0.000000      0.000000   \n",
       "25%    ...      0.000000      0.000000      0.000000      0.000000   \n",
       "50%    ...      0.000000      0.000000      0.000000      0.000000   \n",
       "75%    ...      0.000000      0.000000      0.000000      0.000000   \n",
       "max    ...      0.005158      0.006187      0.006187      0.004974   \n",
       "\n",
       "                 47            48            49            50            51  \\\n",
       "count  40949.000000  40949.000000  40949.000000  40949.000000  40949.000000   \n",
       "mean       0.000012      0.000013      0.000011      0.000011      0.000010   \n",
       "std        0.000192      0.000186      0.000148      0.000144      0.000121   \n",
       "min        0.000000      0.000000      0.000000      0.000000      0.000000   \n",
       "25%        0.000000      0.000000      0.000000      0.000000      0.000000   \n",
       "50%        0.000000      0.000000      0.000000      0.000000      0.000000   \n",
       "75%        0.000000      0.000000      0.000000      0.000000      0.000000   \n",
       "max        0.021262      0.021482      0.009161      0.011600      0.008462   \n",
       "\n",
       "                 52  \n",
       "count  40949.000000  \n",
       "mean       0.000042  \n",
       "std        0.000477  \n",
       "min        0.000000  \n",
       "25%        0.000000  \n",
       "50%        0.000000  \n",
       "75%        0.000006  \n",
       "max        0.058601  \n",
       "\n",
       "[8 rows x 53 columns]"
      ]
     },
     "execution_count": 21,
     "metadata": {},
     "output_type": "execute_result"
    }
   ],
   "source": [
    "temp_norm =  preprocessing.normalize(df,axis= 1, copy= True)\n",
    "df_norm = pd.DataFrame(temp_norm)\n",
    "df_norm.describe()"
   ]
  },
  {
   "cell_type": "code",
   "execution_count": 22,
   "metadata": {},
   "outputs": [
    {
     "data": {
      "text/html": [
       "<div>\n",
       "<style scoped>\n",
       "    .dataframe tbody tr th:only-of-type {\n",
       "        vertical-align: middle;\n",
       "    }\n",
       "\n",
       "    .dataframe tbody tr th {\n",
       "        vertical-align: top;\n",
       "    }\n",
       "\n",
       "    .dataframe thead th {\n",
       "        text-align: right;\n",
       "    }\n",
       "</style>\n",
       "<table border=\"1\" class=\"dataframe\">\n",
       "  <thead>\n",
       "    <tr style=\"text-align: right;\">\n",
       "      <th></th>\n",
       "      <th>page_likes</th>\n",
       "      <th>page_checkins</th>\n",
       "      <th>page_talking</th>\n",
       "      <th>page_category</th>\n",
       "      <th>cc1_min</th>\n",
       "      <th>cc1_max</th>\n",
       "      <th>cc1_avg</th>\n",
       "      <th>cc1_med</th>\n",
       "      <th>cc1_std</th>\n",
       "      <th>cc2_min</th>\n",
       "      <th>...</th>\n",
       "      <th>post_pub_friday</th>\n",
       "      <th>post_pub_saturday</th>\n",
       "      <th>base_date_sunday</th>\n",
       "      <th>base_date_monday</th>\n",
       "      <th>base_date_tuesday</th>\n",
       "      <th>base_date_wednesday</th>\n",
       "      <th>base_date_thursday</th>\n",
       "      <th>base_date_friday</th>\n",
       "      <th>base_date_saturday</th>\n",
       "      <th>target</th>\n",
       "    </tr>\n",
       "  </thead>\n",
       "  <tbody>\n",
       "    <tr>\n",
       "      <th>count</th>\n",
       "      <td>40949.000000</td>\n",
       "      <td>40949.000000</td>\n",
       "      <td>40949.000000</td>\n",
       "      <td>4.094900e+04</td>\n",
       "      <td>40949.000000</td>\n",
       "      <td>40949.000000</td>\n",
       "      <td>40949.000000</td>\n",
       "      <td>40949.000000</td>\n",
       "      <td>40949.000000</td>\n",
       "      <td>4.094900e+04</td>\n",
       "      <td>...</td>\n",
       "      <td>40949.000000</td>\n",
       "      <td>40949.000000</td>\n",
       "      <td>40949.000000</td>\n",
       "      <td>40949.000000</td>\n",
       "      <td>40949.000000</td>\n",
       "      <td>40949.000000</td>\n",
       "      <td>40949.000000</td>\n",
       "      <td>40949.000000</td>\n",
       "      <td>40949.000000</td>\n",
       "      <td>40949.000000</td>\n",
       "    </tr>\n",
       "    <tr>\n",
       "      <th>mean</th>\n",
       "      <td>0.983812</td>\n",
       "      <td>0.025267</td>\n",
       "      <td>0.058903</td>\n",
       "      <td>2.217903e-03</td>\n",
       "      <td>0.000008</td>\n",
       "      <td>0.002787</td>\n",
       "      <td>0.000311</td>\n",
       "      <td>0.000179</td>\n",
       "      <td>0.000434</td>\n",
       "      <td>6.565721e-07</td>\n",
       "      <td>...</td>\n",
       "      <td>0.000010</td>\n",
       "      <td>0.000010</td>\n",
       "      <td>0.000010</td>\n",
       "      <td>0.000009</td>\n",
       "      <td>0.000012</td>\n",
       "      <td>0.000013</td>\n",
       "      <td>0.000011</td>\n",
       "      <td>0.000011</td>\n",
       "      <td>0.000010</td>\n",
       "      <td>0.000042</td>\n",
       "    </tr>\n",
       "    <tr>\n",
       "      <th>std</th>\n",
       "      <td>0.067383</td>\n",
       "      <td>0.116617</td>\n",
       "      <td>0.081969</td>\n",
       "      <td>1.217792e-02</td>\n",
       "      <td>0.000256</td>\n",
       "      <td>0.008208</td>\n",
       "      <td>0.000954</td>\n",
       "      <td>0.000683</td>\n",
       "      <td>0.001181</td>\n",
       "      <td>7.319091e-05</td>\n",
       "      <td>...</td>\n",
       "      <td>0.000111</td>\n",
       "      <td>0.000118</td>\n",
       "      <td>0.000121</td>\n",
       "      <td>0.000103</td>\n",
       "      <td>0.000192</td>\n",
       "      <td>0.000186</td>\n",
       "      <td>0.000148</td>\n",
       "      <td>0.000144</td>\n",
       "      <td>0.000121</td>\n",
       "      <td>0.000477</td>\n",
       "    </tr>\n",
       "    <tr>\n",
       "      <th>min</th>\n",
       "      <td>0.047232</td>\n",
       "      <td>0.000000</td>\n",
       "      <td>0.000000</td>\n",
       "      <td>6.148958e-09</td>\n",
       "      <td>0.000000</td>\n",
       "      <td>0.000000</td>\n",
       "      <td>0.000000</td>\n",
       "      <td>0.000000</td>\n",
       "      <td>0.000000</td>\n",
       "      <td>0.000000e+00</td>\n",
       "      <td>...</td>\n",
       "      <td>0.000000</td>\n",
       "      <td>0.000000</td>\n",
       "      <td>0.000000</td>\n",
       "      <td>0.000000</td>\n",
       "      <td>0.000000</td>\n",
       "      <td>0.000000</td>\n",
       "      <td>0.000000</td>\n",
       "      <td>0.000000</td>\n",
       "      <td>0.000000</td>\n",
       "      <td>0.000000</td>\n",
       "    </tr>\n",
       "    <tr>\n",
       "      <th>25%</th>\n",
       "      <td>0.994518</td>\n",
       "      <td>0.000000</td>\n",
       "      <td>0.007092</td>\n",
       "      <td>8.974377e-06</td>\n",
       "      <td>0.000000</td>\n",
       "      <td>0.000291</td>\n",
       "      <td>0.000036</td>\n",
       "      <td>0.000009</td>\n",
       "      <td>0.000050</td>\n",
       "      <td>0.000000e+00</td>\n",
       "      <td>...</td>\n",
       "      <td>0.000000</td>\n",
       "      <td>0.000000</td>\n",
       "      <td>0.000000</td>\n",
       "      <td>0.000000</td>\n",
       "      <td>0.000000</td>\n",
       "      <td>0.000000</td>\n",
       "      <td>0.000000</td>\n",
       "      <td>0.000000</td>\n",
       "      <td>0.000000</td>\n",
       "      <td>0.000000</td>\n",
       "    </tr>\n",
       "    <tr>\n",
       "      <th>50%</th>\n",
       "      <td>0.999174</td>\n",
       "      <td>0.000000</td>\n",
       "      <td>0.030617</td>\n",
       "      <td>7.406778e-05</td>\n",
       "      <td>0.000000</td>\n",
       "      <td>0.000776</td>\n",
       "      <td>0.000085</td>\n",
       "      <td>0.000038</td>\n",
       "      <td>0.000111</td>\n",
       "      <td>0.000000e+00</td>\n",
       "      <td>...</td>\n",
       "      <td>0.000000</td>\n",
       "      <td>0.000000</td>\n",
       "      <td>0.000000</td>\n",
       "      <td>0.000000</td>\n",
       "      <td>0.000000</td>\n",
       "      <td>0.000000</td>\n",
       "      <td>0.000000</td>\n",
       "      <td>0.000000</td>\n",
       "      <td>0.000000</td>\n",
       "      <td>0.000000</td>\n",
       "    </tr>\n",
       "    <tr>\n",
       "      <th>75%</th>\n",
       "      <td>0.999874</td>\n",
       "      <td>0.000198</td>\n",
       "      <td>0.072375</td>\n",
       "      <td>6.367665e-04</td>\n",
       "      <td>0.000000</td>\n",
       "      <td>0.002274</td>\n",
       "      <td>0.000250</td>\n",
       "      <td>0.000126</td>\n",
       "      <td>0.000338</td>\n",
       "      <td>0.000000e+00</td>\n",
       "      <td>...</td>\n",
       "      <td>0.000000</td>\n",
       "      <td>0.000000</td>\n",
       "      <td>0.000000</td>\n",
       "      <td>0.000000</td>\n",
       "      <td>0.000000</td>\n",
       "      <td>0.000000</td>\n",
       "      <td>0.000000</td>\n",
       "      <td>0.000000</td>\n",
       "      <td>0.000000</td>\n",
       "      <td>0.000006</td>\n",
       "    </tr>\n",
       "    <tr>\n",
       "      <th>max</th>\n",
       "      <td>1.000000</td>\n",
       "      <td>0.988438</td>\n",
       "      <td>0.566954</td>\n",
       "      <td>7.053838e-01</td>\n",
       "      <td>0.026099</td>\n",
       "      <td>0.103349</td>\n",
       "      <td>0.026099</td>\n",
       "      <td>0.026099</td>\n",
       "      <td>0.019514</td>\n",
       "      <td>1.304934e-02</td>\n",
       "      <td>...</td>\n",
       "      <td>0.005158</td>\n",
       "      <td>0.006187</td>\n",
       "      <td>0.006187</td>\n",
       "      <td>0.004974</td>\n",
       "      <td>0.021262</td>\n",
       "      <td>0.021482</td>\n",
       "      <td>0.009161</td>\n",
       "      <td>0.011600</td>\n",
       "      <td>0.008462</td>\n",
       "      <td>0.058601</td>\n",
       "    </tr>\n",
       "  </tbody>\n",
       "</table>\n",
       "<p>8 rows × 53 columns</p>\n",
       "</div>"
      ],
      "text/plain": [
       "         page_likes  page_checkins  page_talking  page_category       cc1_min  \\\n",
       "count  40949.000000   40949.000000  40949.000000   4.094900e+04  40949.000000   \n",
       "mean       0.983812       0.025267      0.058903   2.217903e-03      0.000008   \n",
       "std        0.067383       0.116617      0.081969   1.217792e-02      0.000256   \n",
       "min        0.047232       0.000000      0.000000   6.148958e-09      0.000000   \n",
       "25%        0.994518       0.000000      0.007092   8.974377e-06      0.000000   \n",
       "50%        0.999174       0.000000      0.030617   7.406778e-05      0.000000   \n",
       "75%        0.999874       0.000198      0.072375   6.367665e-04      0.000000   \n",
       "max        1.000000       0.988438      0.566954   7.053838e-01      0.026099   \n",
       "\n",
       "            cc1_max       cc1_avg       cc1_med       cc1_std       cc2_min  \\\n",
       "count  40949.000000  40949.000000  40949.000000  40949.000000  4.094900e+04   \n",
       "mean       0.002787      0.000311      0.000179      0.000434  6.565721e-07   \n",
       "std        0.008208      0.000954      0.000683      0.001181  7.319091e-05   \n",
       "min        0.000000      0.000000      0.000000      0.000000  0.000000e+00   \n",
       "25%        0.000291      0.000036      0.000009      0.000050  0.000000e+00   \n",
       "50%        0.000776      0.000085      0.000038      0.000111  0.000000e+00   \n",
       "75%        0.002274      0.000250      0.000126      0.000338  0.000000e+00   \n",
       "max        0.103349      0.026099      0.026099      0.019514  1.304934e-02   \n",
       "\n",
       "       ...  post_pub_friday  post_pub_saturday  base_date_sunday  \\\n",
       "count  ...     40949.000000       40949.000000      40949.000000   \n",
       "mean   ...         0.000010           0.000010          0.000010   \n",
       "std    ...         0.000111           0.000118          0.000121   \n",
       "min    ...         0.000000           0.000000          0.000000   \n",
       "25%    ...         0.000000           0.000000          0.000000   \n",
       "50%    ...         0.000000           0.000000          0.000000   \n",
       "75%    ...         0.000000           0.000000          0.000000   \n",
       "max    ...         0.005158           0.006187          0.006187   \n",
       "\n",
       "       base_date_monday  base_date_tuesday  base_date_wednesday  \\\n",
       "count      40949.000000       40949.000000         40949.000000   \n",
       "mean           0.000009           0.000012             0.000013   \n",
       "std            0.000103           0.000192             0.000186   \n",
       "min            0.000000           0.000000             0.000000   \n",
       "25%            0.000000           0.000000             0.000000   \n",
       "50%            0.000000           0.000000             0.000000   \n",
       "75%            0.000000           0.000000             0.000000   \n",
       "max            0.004974           0.021262             0.021482   \n",
       "\n",
       "       base_date_thursday  base_date_friday  base_date_saturday        target  \n",
       "count        40949.000000      40949.000000        40949.000000  40949.000000  \n",
       "mean             0.000011          0.000011            0.000010      0.000042  \n",
       "std              0.000148          0.000144            0.000121      0.000477  \n",
       "min              0.000000          0.000000            0.000000      0.000000  \n",
       "25%              0.000000          0.000000            0.000000      0.000000  \n",
       "50%              0.000000          0.000000            0.000000      0.000000  \n",
       "75%              0.000000          0.000000            0.000000      0.000006  \n",
       "max              0.009161          0.011600            0.008462      0.058601  \n",
       "\n",
       "[8 rows x 53 columns]"
      ]
     },
     "execution_count": 22,
     "metadata": {},
     "output_type": "execute_result"
    }
   ],
   "source": [
    "names2=['page_likes','page_checkins','page_talking','page_category',\n",
    "         'cc1_min','cc1_max','cc1_avg','cc1_med','cc1_std',\n",
    "         'cc2_min','cc2_max','cc2_avg','cc2_med','cc2_std',\n",
    "         'cc3_min','cc3_max','cc3_avg','cc3_med','cc3_std',\n",
    "         'cc4_min','cc4_max','cc4_avg','cc4_med','cc4_std',\n",
    "         'cc5_min','cc5_max','cc5_avg','cc5_med','cc5_std',\n",
    "         'CC1','CC2','CC3','CC4','CC5',\n",
    "         'base_time','post_length','post_share_count',\n",
    "         'hour_local',\n",
    "         'post_pub_sunday','post_pub_monday','post_pub_tuesday','post_pub_wednesday','post_pub_thursday','post_pub_friday','post_pub_saturday',\n",
    "         'base_date_sunday','base_date_monday','base_date_tuesday','base_date_wednesday','base_date_thursday','base_date_friday','base_date_saturday',\n",
    "         'target'\n",
    "        ] #Sames column names as before, with 'post_promotion_status' removed\n",
    "\n",
    "df_norm.columns = names2\n",
    "df_norm.describe()"
   ]
  },
  {
   "cell_type": "markdown",
   "metadata": {},
   "source": [
    "### Comments, shares, likes"
   ]
  },
  {
   "cell_type": "markdown",
   "metadata": {},
   "source": [
    "Let's analyze the next correlation :\n",
    "- Number of comments depending on the page likes\n",
    "- Number of shares depending on the page likes\n",
    "- Number of comments depending on the number of shares"
   ]
  },
  {
   "cell_type": "code",
   "execution_count": 23,
   "metadata": {},
   "outputs": [
    {
     "data": {
      "text/plain": [
       "Text(0, 0.5, 'Number of comments')"
      ]
     },
     "execution_count": 23,
     "metadata": {},
     "output_type": "execute_result"
    },
    {
     "data": {
      "image/png": "[encoded data removed]",
      "text/plain": [
       "<Figure size 1224x360 with 3 Axes>"
      ]
     },
     "metadata": {
      "needs_background": "light"
     },
     "output_type": "display_data"
    }
   ],
   "source": [
    "fig, (ax1, ax2, ax3) = plt.subplots(1,3, figsize = (17,5))\n",
    "\n",
    "ax1.scatter(df_norm.page_likes, df_norm.CC1)\n",
    "ax1.set_xlabel('Pages likes')\n",
    "ax1.set_ylabel('Number of comments')\n",
    "\n",
    "ax2.scatter(df_norm.page_likes, df_norm.post_share_count)\n",
    "ax2.set_xlabel('Pages likes')\n",
    "ax2.set_ylabel('Number of shares')\n",
    "\n",
    "ax3.scatter(df_norm.post_share_count, df_norm.CC1)\n",
    "ax3.set_xlabel('Number of share')\n",
    "ax3.set_ylabel('Number of comments')"
   ]
  },
  {
   "cell_type": "markdown",
   "metadata": {},
   "source": [
    "As we can see :\n",
    "- As expected, the number of comments significantly depends on the number of likes the page has\n",
    "- Same thing, as expected, for the shares\n",
    "- Also not a surprise, the number of comments and shares are strongly influencing each other"
   ]
  },
  {
   "cell_type": "markdown",
   "metadata": {},
   "source": [
    "# Models"
   ]
  },
  {
   "cell_type": "markdown",
   "metadata": {},
   "source": [
    "We are trying to predict the number of comments on a post. It is a regression problem."
   ]
  },
  {
   "cell_type": "markdown",
   "metadata": {},
   "source": [
    "Let's reload the data, clean it and split it."
   ]
  },
  {
   "cell_type": "code",
   "execution_count": 24,
   "metadata": {},
   "outputs": [],
   "source": [
    "from sklearn.model_selection import train_test_split\n",
    "from sklearn.linear_model import LinearRegression\n",
    "from sklearn import linear_model\n",
    "from sklearn.ensemble import RandomForestRegressor\n",
    "from sklearn import metrics\n",
    "from math import sqrt\n",
    "from sklearn.ensemble import GradientBoostingRegressor\n",
    "from sklearn.model_selection import GridSearchCV"
   ]
  },
  {
   "cell_type": "code",
   "execution_count": 25,
   "metadata": {},
   "outputs": [
    {
     "name": "stdout",
     "output_type": "stream",
     "text": [
      "(40949,)\n",
      "(40949, 53)\n"
     ]
    }
   ],
   "source": [
    "data = 'Data/Features_Variant_1.csv'\n",
    "df = pd.read_csv(data,header=None,names=names)\n",
    "df.drop(columns = \"post_share_count\")\n",
    "Y = df['target']\n",
    "X = df.drop(columns =\"target\")\n",
    "print(Y.shape)\n",
    "print(X.shape)"
   ]
  },
  {
   "cell_type": "code",
   "execution_count": 26,
   "metadata": {},
   "outputs": [
    {
     "name": "stdout",
     "output_type": "stream",
     "text": [
      "26616\n",
      "14333\n"
     ]
    }
   ],
   "source": [
    "x_train,x_test,y_train,y_test=train_test_split(X,Y,test_size=0.35)\n",
    "print(len(x_train))\n",
    "print(len(x_test))"
   ]
  },
  {
   "cell_type": "markdown",
   "metadata": {},
   "source": [
    "### Display all the interesting information on the models"
   ]
  },
  {
   "cell_type": "code",
   "execution_count": 27,
   "metadata": {},
   "outputs": [],
   "source": [
    "def display_res(y_test, y_pred):\n",
    "\n",
    "  MAE = metrics.mean_absolute_error(y_test, y_pred)\n",
    "  RMSE = sqrt(metrics.mean_squared_error(y_test, y_pred))\n",
    "  R2 = metrics.r2_score(y_test, y_pred)\n",
    "\n",
    "  print(f\"- Mean absolute error : {MAE} \\n- Root mean square error : {RMSE} \\n- R2 Score : {R2}\")\n",
    "\n",
    "  plt.scatter(y_test, y_pred)\n",
    "  plt.xlabel('Number of comments')\n",
    "  plt.ylabel('Predicted number of comments')\n",
    "  plt.axis('tight')\n",
    "  plt.tight_layout()\n",
    "\n",
    "  return {'MAE' : MAE, 'RMSE' : RMSE, 'R2 Score' : R2}"
   ]
  },
  {
   "cell_type": "markdown",
   "metadata": {},
   "source": [
    "## Linear Regression"
   ]
  },
  {
   "cell_type": "code",
   "execution_count": 28,
   "metadata": {},
   "outputs": [
    {
     "name": "stdout",
     "output_type": "stream",
     "text": [
      "- Mean absolute error : 8.433202918940207 \n",
      "- Root mean square error : 28.600999926079705 \n",
      "- R2 Score : 0.31598700290199033\n"
     ]
    },
    {
     "data": {
      "text/plain": [
       "{'MAE': 8.433202918940207,\n",
       " 'RMSE': 28.600999926079705,\n",
       " 'R2 Score': 0.31598700290199033}"
      ]
     },
     "execution_count": 28,
     "metadata": {},
     "output_type": "execute_result"
    },
    {
     "data": {
      "image/png": "[encoded data removed]",
      "text/plain": [
       "<Figure size 432x288 with 1 Axes>"
      ]
     },
     "metadata": {
      "needs_background": "light"
     },
     "output_type": "display_data"
    }
   ],
   "source": [
    "lr = linear_model.LinearRegression() \n",
    "lr.fit(x_train, y_train) \n",
    "\n",
    "y_pred_lr = lr.predict(x_test)\n",
    "\n",
    "display_res(y_test, y_pred_lr)"
   ]
  },
  {
   "cell_type": "markdown",
   "metadata": {},
   "source": [
    "## Random Forest"
   ]
  },
  {
   "cell_type": "code",
   "execution_count": 29,
   "metadata": {},
   "outputs": [
    {
     "name": "stdout",
     "output_type": "stream",
     "text": [
      "- Mean absolute error : 4.001114572787292 \n",
      "- Root mean square error : 20.81577086740954 \n",
      "- R2 Score : 0.6376844967823818\n"
     ]
    },
    {
     "data": {
      "text/plain": [
       "{'MAE': 4.001114572787292,\n",
       " 'RMSE': 20.81577086740954,\n",
       " 'R2 Score': 0.6376844967823818}"
      ]
     },
     "execution_count": 29,
     "metadata": {},
     "output_type": "execute_result"
    },
    {
     "data": {
      "image/png": "[encoded data removed]",
      "text/plain": [
       "<Figure size 432x288 with 1 Axes>"
      ]
     },
     "metadata": {
      "needs_background": "light"
     },
     "output_type": "display_data"
    }
   ],
   "source": [
    "rf = RandomForestRegressor(n_estimators=134) #Best number of estimators according to the GridSearch down below\n",
    "rf.fit(x_train, y_train)\n",
    "\n",
    "y_pred_rf = rf.predict(x_test)\n",
    "\n",
    "display_res(y_test, y_pred_rf)"
   ]
  },
  {
   "cell_type": "markdown",
   "metadata": {},
   "source": [
    "## Gradient Boosting"
   ]
  },
  {
   "cell_type": "code",
   "execution_count": 30,
   "metadata": {},
   "outputs": [
    {
     "name": "stdout",
     "output_type": "stream",
     "text": [
      "- Mean absolute error : 4.349701491039349 \n",
      "- Root mean square error : 21.47420476979698 \n",
      "- R2 Score : 0.6144008211997869\n"
     ]
    },
    {
     "data": {
      "text/plain": [
       "{'MAE': 4.349701491039349,\n",
       " 'RMSE': 21.47420476979698,\n",
       " 'R2 Score': 0.6144008211997869}"
      ]
     },
     "execution_count": 30,
     "metadata": {},
     "output_type": "execute_result"
    },
    {
     "data": {
      "image/png": "[encoded data removed]",
      "text/plain": [
       "<Figure size 432x288 with 1 Axes>"
      ]
     },
     "metadata": {
      "needs_background": "light"
     },
     "output_type": "display_data"
    }
   ],
   "source": [
    "gb = GradientBoostingRegressor()\n",
    "gb.fit(x_train, y_train)\n",
    "\n",
    "y_pred_gb = gb.predict(x_test)\n",
    "\n",
    "display_res(y_test, y_pred_gb)"
   ]
  },
  {
   "cell_type": "markdown",
   "metadata": {},
   "source": [
    "## GridSearch"
   ]
  },
  {
   "cell_type": "markdown",
   "metadata": {},
   "source": [
    "Let's use GridSearch to find the best parameters for our RandomForest model."
   ]
  },
  {
   "cell_type": "code",
   "execution_count": 270,
   "metadata": {},
   "outputs": [
    {
     "name": "stdout",
     "output_type": "stream",
     "text": [
      "0.641416757481824 RandomForestRegressor(n_estimators=134)\n"
     ]
    }
   ],
   "source": [
    "params={'n_estimators': [int(x) for x in np.linspace(start=10,stop=150,num=10)]}\n",
    "grid=GridSearchCV(RandomForestRegressor(),params)\n",
    "grid.fit(x_train, y_train)\n",
    "print(grid.best_score_, grid.best_estimator_)"
   ]
  },
  {
   "cell_type": "markdown",
   "metadata": {},
   "source": [
    "The RandomForest has thus been modified with n_estimators=134, as suggested."
   ]
  },
  {
   "cell_type": "markdown",
   "metadata": {},
   "source": [
    "#### Wish is the best model ?"
   ]
  },
  {
   "cell_type": "markdown",
   "metadata": {},
   "source": [
    "The best model is the Random Forest with n_estimators = 134."
   ]
  },
  {
   "cell_type": "markdown",
   "metadata": {},
   "source": [
    "# API"
   ]
  },
  {
   "cell_type": "code",
   "execution_count": 34,
   "metadata": {},
   "outputs": [],
   "source": [
    "import pickle\n",
    "\n",
    "ModelFile='model.pkl'\n",
    "\n",
    "with open(ModelFile, 'wb') as file:\n",
    "    pickle.dump(rf, file, protocol = 2) #Had to change it for compatibilty reasons\n"
   ]
  },
  {
   "cell_type": "code",
   "execution_count": null,
   "metadata": {},
   "outputs": [],
   "source": []
  }
 ],
 "metadata": {
  "kernelspec": {
   "display_name": "Python 3",
   "language": "python",
   "name": "python3"
  },
  "language_info": {
   "codemirror_mode": {
    "name": "ipython",
    "version": 3
   },
   "file_extension": ".py",
   "mimetype": "text/x-python",
   "name": "python",
   "nbconvert_exporter": "python",
   "pygments_lexer": "ipython3",
   "version": "3.8.3"
  }
 },
 "nbformat": 4,
 "nbformat_minor": 4
}
